{
 "cells": [
  {
   "cell_type": "markdown",
   "id": "817a9abf-69e1-4264-a7da-7cbd0ec391b6",
   "metadata": {},
   "source": [
    "# Hassaan Hamid Okarvi | FA22-BSCS-0060"
   ]
  },
  {
   "cell_type": "markdown",
   "id": "201fb1a1-da07-4c18-bed6-2f8de0d1d458",
   "metadata": {},
   "source": [
    "# Notebook 1"
   ]
  },
  {
   "cell_type": "markdown",
   "id": "4893663f-87a5-4969-847c-00eb5634871e",
   "metadata": {},
   "source": [
    "## Introduction"
   ]
  },
  {
   "cell_type": "markdown",
   "id": "effdbf07-efb4-4cdf-b977-59eb858f5cb2",
   "metadata": {},
   "source": [
    "In the era of big data, data science has emerged as a powerful tool for extracting insights, making predictions, and driving informed decision-making. By leveraging machine learning, statistical analysis, and data visualization, organizations can uncover patterns and trends that were previously hidden. From healthcare and finance to marketing and social media, data science is revolutionizing industries by turning raw data into actionable intelligence. As technology continues to evolve, the demand for skilled data scientists grows, making it a crucial field in shaping the future of innovation and problem-solving."
   ]
  },
  {
   "cell_type": "markdown",
   "id": "1ae3d805-3196-4130-a721-e9d369f0939a",
   "metadata": {},
   "source": [
    "## Data Science Languages"
   ]
  },
  {
   "cell_type": "markdown",
   "id": "b1fb8a4c-7351-49a8-b3e9-e06a625125c6",
   "metadata": {},
   "source": [
    "1. Python\n",
    "2. R\n",
    "3. Julia\n",
    "4. Scala\n",
    "5. SQL"
   ]
  },
  {
   "cell_type": "markdown",
   "id": "4bd19222-bff9-4add-9d84-c07f5638669e",
   "metadata": {},
   "source": [
    "## Data Science Libraries"
   ]
  },
  {
   "cell_type": "markdown",
   "id": "e6f6b407-6158-4102-8291-2db5e4527a0e",
   "metadata": {},
   "source": [
    "* NumPy\n",
    "* Pandas\n",
    "* Matplotlib\n",
    "* Folium\n",
    "* TensorFlow\n",
    "* Scikit-learn"
   ]
  },
  {
   "cell_type": "markdown",
   "id": "ce0de7a4-0880-4863-b1f8-179a0a779b93",
   "metadata": {},
   "source": [
    "## Data Science Tools"
   ]
  },
  {
   "cell_type": "markdown",
   "id": "d4906c38-ce9d-4e02-97b6-8219bd9d7fb3",
   "metadata": {},
   "source": [
    "| Data Science Tools |\n",
    "|-------------------|\n",
    "| Jupyter Notebook| \n",
    "| Apache Spark |\n",
    "| Google Colab |\n",
    "| Tableau |\n",
    "| Power BI |"
   ]
  },
  {
   "cell_type": "markdown",
   "id": "696f1ea9-a5cd-4ae6-8af0-a331fe141daa",
   "metadata": {},
   "source": [
    "## Arithmetic Expressions Examples"
   ]
  },
  {
   "cell_type": "code",
   "execution_count": 1,
   "id": "e38aac8f-5372-4883-8d89-1335cf94d46a",
   "metadata": {},
   "outputs": [],
   "source": [
    "a = 5\n",
    "b = 2"
   ]
  },
  {
   "cell_type": "code",
   "execution_count": 5,
   "id": "90507d23-5d3d-44f4-8c20-41810fc62dcc",
   "metadata": {},
   "outputs": [
    {
     "name": "stdout",
     "output_type": "stream",
     "text": [
      "Multiplication of A & B : 10\n"
     ]
    }
   ],
   "source": [
    "print(\"Multiplication of A & B :\", a*b)"
   ]
  },
  {
   "cell_type": "code",
   "execution_count": 6,
   "id": "4b3a3cc5-24fb-49be-a7c2-e67233253151",
   "metadata": {},
   "outputs": [
    {
     "name": "stdout",
     "output_type": "stream",
     "text": [
      "Addition of A & B : 7\n"
     ]
    }
   ],
   "source": [
    "print(\"Addition of A & B :\", a+b)"
   ]
  },
  {
   "cell_type": "code",
   "execution_count": 7,
   "id": "6062542f-fa7f-4385-9728-d5643848b4e1",
   "metadata": {},
   "outputs": [
    {
     "name": "stdout",
     "output_type": "stream",
     "text": [
      "345 Minutes to Hours : 5.75\n"
     ]
    }
   ],
   "source": [
    "minutes = 345\n",
    "print(minutes, \"Minutes to Hours :\", minutes/60)"
   ]
  },
  {
   "cell_type": "markdown",
   "id": "e65d571f-7be3-49cd-90fb-ec4f335e2f85",
   "metadata": {},
   "source": [
    "## Objectives"
   ]
  },
  {
   "cell_type": "markdown",
   "id": "9ee745e1-8584-4999-afa5-d3637983a83a",
   "metadata": {},
   "source": [
    "**Author's Name** : Hassaan Hamid Okarvi"
   ]
  }
 ],
 "metadata": {
  "kernelspec": {
   "display_name": "Python 3 (ipykernel)",
   "language": "python",
   "name": "python3"
  },
  "language_info": {
   "codemirror_mode": {
    "name": "ipython",
    "version": 3
   },
   "file_extension": ".py",
   "mimetype": "text/x-python",
   "name": "python",
   "nbconvert_exporter": "python",
   "pygments_lexer": "ipython3",
   "version": "3.12.7"
  }
 },
 "nbformat": 4,
 "nbformat_minor": 5
}
